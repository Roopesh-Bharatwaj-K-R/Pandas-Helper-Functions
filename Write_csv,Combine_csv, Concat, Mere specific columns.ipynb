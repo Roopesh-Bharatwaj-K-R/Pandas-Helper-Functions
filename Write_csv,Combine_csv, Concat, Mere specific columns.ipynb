{
 "cells": [
  {
   "cell_type": "code",
   "execution_count": null,
   "id": "2f280da9",
   "metadata": {},
   "outputs": [],
   "source": [
    "\n",
    "#  write in CSV\n",
    "\n",
    "        cluster= gm.predict(input_csv_pixels)\n",
    "        pred= pd.DataFrame(cluster) # CONTAINS CLUSTER VALUE FROM gm.predict\n",
    "        input_1=pd.DataFrame(input_csv_pixels) # CONTAINS (RGB PIXELS)\n",
    "        prediction=pd.concat([input_1,pred], axis=1) # CONCAT THE TWO DATAFRAMES\n",
    "        pred2 = pd.Series([idx for x in range(len(prediction.index))]) # CREATE A SERIES OF IDX upto the length of prediction.index\n",
    "        prediction1=pd.concat([prediction, pred2],axis=1) # CONCAT THE TWO DATAFRAMES\n",
    "        c=('R_pix','G_pix','B_pix','GMM_cluster','Idx_csv') # CREATE A LIST OF COLUMNS\n",
    "        prediction1.to_csv(f'/home/roopesh/Documents/CSV2/{idx}.csv', sep=',',index=False,header=c) # WRITE THE DATAFRAME TO CSV\n",
    "\n",
    "# Combining Multiple Csv in to one CSV\n",
    "\n",
    "        os.chdir(\"/home/roopesh/Documents/CSV2\") # Directory of the csv files\n",
    "        extension = 'csv'\n",
    "        all_filenames = [i for i in glob.glob('*.{}'.format(extension))]\n",
    "# combine all files in the list\n",
    "        combined_csv = pd.concat([pd.read_csv(f) for f in all_filenames ])\n",
    "        #export to csv\n",
    "        # combined_csv.to_csv( \"/home/roopesh/Documents/Combined_CSV/combined_csv.csv\", index=False, encoding='utf-8-sig')\n",
    "\n",
    "# Merging Labelled CSV with Combined CSV\n",
    "\n",
    "        df=pd.read_csv('/home/roopesh/Desktop/Labeled Iris.csv')\n",
    "        df1=combined_csv\n",
    "        df = df.rename(columns={'CSV_File_No': 'Idx_csv'}) # rename columns \n",
    "        final = df.merge(df1, how='left') # merge specific column to the main csv (df)\n",
    "# Export to csv\n",
    "        final.to_csv( \"/home/roopesh/Documents/Final_CSV/Final_csv1.csv\", index=False, encoding='utf-8-sig')\n",
    "\n"
   ]
  }
 ],
 "metadata": {
  "kernelspec": {
   "display_name": "Python 3",
   "language": "python",
   "name": "python3"
  },
  "language_info": {
   "codemirror_mode": {
    "name": "ipython",
    "version": 3
   },
   "file_extension": ".py",
   "mimetype": "text/x-python",
   "name": "python",
   "nbconvert_exporter": "python",
   "pygments_lexer": "ipython3",
   "version": "3.7.11"
  }
 },
 "nbformat": 4,
 "nbformat_minor": 5
}
